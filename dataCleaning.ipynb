{
 "cells": [
  {
   "cell_type": "code",
   "execution_count": 1,
   "metadata": {},
   "outputs": [],
   "source": [
    "# import libraries\n",
    "import pandas as pd"
   ]
  },
  {
   "cell_type": "code",
   "execution_count": 96,
   "metadata": {},
   "outputs": [
    {
     "data": {
      "text/html": [
       "<div>\n",
       "<style scoped>\n",
       "    .dataframe tbody tr th:only-of-type {\n",
       "        vertical-align: middle;\n",
       "    }\n",
       "\n",
       "    .dataframe tbody tr th {\n",
       "        vertical-align: top;\n",
       "    }\n",
       "\n",
       "    .dataframe thead th {\n",
       "        text-align: right;\n",
       "    }\n",
       "</style>\n",
       "<table border=\"1\" class=\"dataframe\">\n",
       "  <thead>\n",
       "    <tr style=\"text-align: right;\">\n",
       "      <th></th>\n",
       "      <th>Name</th>\n",
       "      <th>Age</th>\n",
       "      <th>Location</th>\n",
       "      <th>Crime</th>\n",
       "      <th>Date</th>\n",
       "    </tr>\n",
       "  </thead>\n",
       "  <tbody>\n",
       "    <tr>\n",
       "      <th>0</th>\n",
       "      <td>William HUME</td>\n",
       "      <td>50 Yrs</td>\n",
       "      <td>No Fixed Address</td>\n",
       "      <td>['', '', '\\xa0Break and Enter', 'Fail to Atten...</td>\n",
       "      <td>2023.08.30</td>\n",
       "    </tr>\n",
       "    <tr>\n",
       "      <th>1</th>\n",
       "      <td>Paul ST PIERRE</td>\n",
       "      <td>46 Yrs</td>\n",
       "      <td>No Fixed Address</td>\n",
       "      <td>['', '', 'Break and Enter x3', '', '', '23-885...</td>\n",
       "      <td>2023.08.30</td>\n",
       "    </tr>\n",
       "    <tr>\n",
       "      <th>2</th>\n",
       "      <td>Kipp DALE-PAISLEY</td>\n",
       "      <td>32 Yrs</td>\n",
       "      <td>St Catharines</td>\n",
       "      <td>['', '', 'Assault', '', '', '23-91405', '', '']</td>\n",
       "      <td>2023.08.30</td>\n",
       "    </tr>\n",
       "    <tr>\n",
       "      <th>3</th>\n",
       "      <td>Peter THOMAS</td>\n",
       "      <td>46 yrs</td>\n",
       "      <td>Welland</td>\n",
       "      <td>['', '', 'Fail to Comply Release Order', '', '...</td>\n",
       "      <td>2023.08.30</td>\n",
       "    </tr>\n",
       "    <tr>\n",
       "      <th>4</th>\n",
       "      <td>Rachel FRASER</td>\n",
       "      <td>32 yrs</td>\n",
       "      <td>Welland</td>\n",
       "      <td>['', '', 'Fail to Attend Court', '', '', '23-9...</td>\n",
       "      <td>2023.08.30</td>\n",
       "    </tr>\n",
       "  </tbody>\n",
       "</table>\n",
       "</div>"
      ],
      "text/plain": [
       "                Name     Age          Location  \\\n",
       "0       William HUME  50 Yrs  No Fixed Address   \n",
       "1     Paul ST PIERRE  46 Yrs  No Fixed Address   \n",
       "2  Kipp DALE-PAISLEY  32 Yrs     St Catharines   \n",
       "3       Peter THOMAS  46 yrs           Welland   \n",
       "4      Rachel FRASER  32 yrs           Welland   \n",
       "\n",
       "                                               Crime        Date  \n",
       "0  ['', '', '\\xa0Break and Enter', 'Fail to Atten...  2023.08.30  \n",
       "1  ['', '', 'Break and Enter x3', '', '', '23-885...  2023.08.30  \n",
       "2    ['', '', 'Assault', '', '', '23-91405', '', '']  2023.08.30  \n",
       "3  ['', '', 'Fail to Comply Release Order', '', '...  2023.08.30  \n",
       "4  ['', '', 'Fail to Attend Court', '', '', '23-9...  2023.08.30  "
      ]
     },
     "execution_count": 96,
     "metadata": {},
     "output_type": "execute_result"
    }
   ],
   "source": [
    "df = pd.read_csv('NRP.csv', encoding='windows-1252') # \n",
    "df.head()"
   ]
  },
  {
   "cell_type": "code",
   "execution_count": 35,
   "metadata": {},
   "outputs": [
    {
     "name": "stdout",
     "output_type": "stream",
     "text": [
      "<class 'pandas.core.frame.DataFrame'>\n",
      "RangeIndex: 142 entries, 0 to 141\n",
      "Data columns (total 5 columns):\n",
      " #   Column    Non-Null Count  Dtype \n",
      "---  ------    --------------  ----- \n",
      " 0   Name      142 non-null    object\n",
      " 1   Age       28 non-null     object\n",
      " 2   Location  28 non-null     object\n",
      " 3   Crime     142 non-null    object\n",
      " 4   Date      142 non-null    object\n",
      "dtypes: object(5)\n",
      "memory usage: 5.7+ KB\n"
     ]
    }
   ],
   "source": [
    "df.info()"
   ]
  },
  {
   "cell_type": "code",
   "execution_count": 36,
   "metadata": {},
   "outputs": [
    {
     "data": {
      "text/plain": [
       "Name          0\n",
       "Age         114\n",
       "Location    114\n",
       "Crime         0\n",
       "Date          0\n",
       "dtype: int64"
      ]
     },
     "execution_count": 36,
     "metadata": {},
     "output_type": "execute_result"
    }
   ],
   "source": [
    "df.isnull().sum() # check the null values"
   ]
  },
  {
   "cell_type": "code",
   "execution_count": 61,
   "metadata": {},
   "outputs": [
    {
     "data": {
      "text/plain": [
       "142"
      ]
     },
     "execution_count": 61,
     "metadata": {},
     "output_type": "execute_result"
    }
   ],
   "source": [
    "len(df)"
   ]
  },
  {
   "cell_type": "code",
   "execution_count": 150,
   "metadata": {},
   "outputs": [],
   "source": [
    "\n",
    "for i in range(len(df)):\n",
    "        if df.isnull().iloc[i,1]:\n",
    "                df.iloc[i,1]= df['age2'][i][0]\n"
   ]
  },
  {
   "cell_type": "code",
   "execution_count": 167,
   "metadata": {},
   "outputs": [
    {
     "data": {
      "text/html": [
       "<div>\n",
       "<style scoped>\n",
       "    .dataframe tbody tr th:only-of-type {\n",
       "        vertical-align: middle;\n",
       "    }\n",
       "\n",
       "    .dataframe tbody tr th {\n",
       "        vertical-align: top;\n",
       "    }\n",
       "\n",
       "    .dataframe thead th {\n",
       "        text-align: right;\n",
       "    }\n",
       "</style>\n",
       "<table border=\"1\" class=\"dataframe\">\n",
       "  <thead>\n",
       "    <tr style=\"text-align: right;\">\n",
       "      <th></th>\n",
       "      <th>Name</th>\n",
       "      <th>Age</th>\n",
       "      <th>Location</th>\n",
       "      <th>Crime</th>\n",
       "      <th>Date</th>\n",
       "      <th>age2</th>\n",
       "      <th>age3</th>\n",
       "    </tr>\n",
       "  </thead>\n",
       "  <tbody>\n",
       "    <tr>\n",
       "      <th>137</th>\n",
       "      <td>Jeremy WALL</td>\n",
       "      <td>['40 yrs'</td>\n",
       "      <td>'Fort Erie'</td>\n",
       "      <td>['40 yrs', '', '', 'Fort Erie', '', '', '', ''...</td>\n",
       "      <td>updated:  2018.12.12</td>\n",
       "      <td>[['40 yrs',  '',  '',  'Fort Erie',  '',  '', ...</td>\n",
       "      <td>['40 yrs'</td>\n",
       "    </tr>\n",
       "    <tr>\n",
       "      <th>138</th>\n",
       "      <td>Noel TONER</td>\n",
       "      <td>['33 yrs'</td>\n",
       "      <td>'Niagara Falls\\xa0'</td>\n",
       "      <td>['33 yrs', '', '', 'Niagara Falls\\xa0', '', ''...</td>\n",
       "      <td>updated:  2018.12.12</td>\n",
       "      <td>[['33 yrs',  '',  '',  'Niagara Falls\\xa0',  '...</td>\n",
       "      <td>['33 yrs'</td>\n",
       "    </tr>\n",
       "    <tr>\n",
       "      <th>139</th>\n",
       "      <td>Michael ANNIS</td>\n",
       "      <td>['46 yrs'</td>\n",
       "      <td>'Niagara Falls'</td>\n",
       "      <td>['46 yrs', '', '', 'Niagara Falls', '', '', ''...</td>\n",
       "      <td>2017.04.05</td>\n",
       "      <td>[['46 yrs',  '',  '',  'Niagara Falls',  '',  ...</td>\n",
       "      <td>['46 yrs'</td>\n",
       "    </tr>\n",
       "    <tr>\n",
       "      <th>140</th>\n",
       "      <td>Andrew DEWEESE,</td>\n",
       "      <td>['30 Yrs'</td>\n",
       "      <td>'Niagara Falls'</td>\n",
       "      <td>['30 Yrs', '', '', 'Niagara Falls', '', '', ''...</td>\n",
       "      <td>2016.11.01</td>\n",
       "      <td>[['30 Yrs',  '',  '',  'Niagara Falls',  '',  ...</td>\n",
       "      <td>['30 Yrs'</td>\n",
       "    </tr>\n",
       "    <tr>\n",
       "      <th>141</th>\n",
       "      <td>Richard BARTSCHER</td>\n",
       "      <td>['39 yrs'</td>\n",
       "      <td>'Niagara Falls'</td>\n",
       "      <td>['39 yrs', '', '', 'Niagara Falls', '', '', '\\...</td>\n",
       "      <td>2016.08.01</td>\n",
       "      <td>[['39 yrs',  '',  '',  'Niagara Falls',  '',  ...</td>\n",
       "      <td>['39 yrs'</td>\n",
       "    </tr>\n",
       "  </tbody>\n",
       "</table>\n",
       "</div>"
      ],
      "text/plain": [
       "                  Name        Age              Location  \\\n",
       "137        Jeremy WALL  ['40 yrs'           'Fort Erie'   \n",
       "138         Noel TONER  ['33 yrs'   'Niagara Falls\\xa0'   \n",
       "139      Michael ANNIS  ['46 yrs'       'Niagara Falls'   \n",
       "140    Andrew DEWEESE,  ['30 Yrs'       'Niagara Falls'   \n",
       "141  Richard BARTSCHER  ['39 yrs'       'Niagara Falls'   \n",
       "\n",
       "                                                 Crime                  Date  \\\n",
       "137  ['40 yrs', '', '', 'Fort Erie', '', '', '', ''...  updated:  2018.12.12   \n",
       "138  ['33 yrs', '', '', 'Niagara Falls\\xa0', '', ''...  updated:  2018.12.12   \n",
       "139  ['46 yrs', '', '', 'Niagara Falls', '', '', ''...            2017.04.05   \n",
       "140  ['30 Yrs', '', '', 'Niagara Falls', '', '', ''...            2016.11.01   \n",
       "141  ['39 yrs', '', '', 'Niagara Falls', '', '', '\\...            2016.08.01   \n",
       "\n",
       "                                                  age2       age3  \n",
       "137  [['40 yrs',  '',  '',  'Fort Erie',  '',  '', ...  ['40 yrs'  \n",
       "138  [['33 yrs',  '',  '',  'Niagara Falls\\xa0',  '...  ['33 yrs'  \n",
       "139  [['46 yrs',  '',  '',  'Niagara Falls',  '',  ...  ['46 yrs'  \n",
       "140  [['30 Yrs',  '',  '',  'Niagara Falls',  '',  ...  ['30 Yrs'  \n",
       "141  [['39 yrs',  '',  '',  'Niagara Falls',  '',  ...  ['39 yrs'  "
      ]
     },
     "execution_count": 167,
     "metadata": {},
     "output_type": "execute_result"
    }
   ],
   "source": [
    "df.tail()"
   ]
  },
  {
   "cell_type": "code",
   "execution_count": 165,
   "metadata": {},
   "outputs": [],
   "source": [
    "for i in range(len(df)):\n",
    "        if df.isnull().iloc[i,2]:\n",
    "                df.iloc[i,2]= df['age2'][i][3]"
   ]
  },
  {
   "cell_type": "code",
   "execution_count": 168,
   "metadata": {},
   "outputs": [
    {
     "data": {
      "text/plain": [
       "Name        0\n",
       "Age         0\n",
       "Location    0\n",
       "Crime       0\n",
       "Date        0\n",
       "age2        0\n",
       "age3        0\n",
       "dtype: int64"
      ]
     },
     "execution_count": 168,
     "metadata": {},
     "output_type": "execute_result"
    }
   ],
   "source": [
    "df.isnull().sum()"
   ]
  },
  {
   "cell_type": "code",
   "execution_count": 169,
   "metadata": {},
   "outputs": [],
   "source": [
    "import re"
   ]
  },
  {
   "cell_type": "code",
   "execution_count": null,
   "metadata": {},
   "outputs": [],
   "source": []
  }
 ],
 "metadata": {
  "kernelspec": {
   "display_name": "NRPS",
   "language": "python",
   "name": "nrps"
  },
  "language_info": {
   "codemirror_mode": {
    "name": "ipython",
    "version": 3
   },
   "file_extension": ".py",
   "mimetype": "text/x-python",
   "name": "python",
   "nbconvert_exporter": "python",
   "pygments_lexer": "ipython3",
   "version": "3.8.10"
  },
  "orig_nbformat": 4
 },
 "nbformat": 4,
 "nbformat_minor": 2
}
