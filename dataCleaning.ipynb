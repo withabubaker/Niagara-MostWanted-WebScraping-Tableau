{
 "cells": [
  {
   "cell_type": "code",
   "execution_count": 1,
   "metadata": {},
   "outputs": [],
   "source": [
    "# import libraries\n",
    "import pandas as pd"
   ]
  },
  {
   "cell_type": "code",
   "execution_count": 4,
   "metadata": {},
   "outputs": [
    {
     "data": {
      "text/html": [
       "<div>\n",
       "<style scoped>\n",
       "    .dataframe tbody tr th:only-of-type {\n",
       "        vertical-align: middle;\n",
       "    }\n",
       "\n",
       "    .dataframe tbody tr th {\n",
       "        vertical-align: top;\n",
       "    }\n",
       "\n",
       "    .dataframe thead th {\n",
       "        text-align: right;\n",
       "    }\n",
       "</style>\n",
       "<table border=\"1\" class=\"dataframe\">\n",
       "  <thead>\n",
       "    <tr style=\"text-align: right;\">\n",
       "      <th></th>\n",
       "      <th>Name</th>\n",
       "      <th>Age</th>\n",
       "      <th>Location</th>\n",
       "      <th>Crime</th>\n",
       "      <th>Date</th>\n",
       "    </tr>\n",
       "  </thead>\n",
       "  <tbody>\n",
       "    <tr>\n",
       "      <th>0</th>\n",
       "      <td>William HUME</td>\n",
       "      <td>50 Yrs</td>\n",
       "      <td>No Fixed Address</td>\n",
       "      <td>['', '', '\\xa0Break and Enter', 'Fail to Atten...</td>\n",
       "      <td>2023.08.30</td>\n",
       "    </tr>\n",
       "    <tr>\n",
       "      <th>1</th>\n",
       "      <td>Paul ST PIERRE</td>\n",
       "      <td>46 Yrs</td>\n",
       "      <td>No Fixed Address</td>\n",
       "      <td>['', '', 'Break and Enter x3', '', '', '23-885...</td>\n",
       "      <td>2023.08.30</td>\n",
       "    </tr>\n",
       "    <tr>\n",
       "      <th>2</th>\n",
       "      <td>Kipp DALE-PAISLEY</td>\n",
       "      <td>32 Yrs</td>\n",
       "      <td>St Catharines</td>\n",
       "      <td>['', '', 'Assault', '', '', '23-91405', '', '']</td>\n",
       "      <td>2023.08.30</td>\n",
       "    </tr>\n",
       "    <tr>\n",
       "      <th>3</th>\n",
       "      <td>Peter THOMAS</td>\n",
       "      <td>46 yrs</td>\n",
       "      <td>Welland</td>\n",
       "      <td>['', '', 'Fail to Comply Release Order', '', '...</td>\n",
       "      <td>2023.08.30</td>\n",
       "    </tr>\n",
       "    <tr>\n",
       "      <th>4</th>\n",
       "      <td>Rachel FRASER</td>\n",
       "      <td>32 yrs</td>\n",
       "      <td>Welland</td>\n",
       "      <td>['', '', 'Fail to Attend Court', '', '', '23-9...</td>\n",
       "      <td>2023.08.30</td>\n",
       "    </tr>\n",
       "  </tbody>\n",
       "</table>\n",
       "</div>"
      ],
      "text/plain": [
       "                Name     Age          Location  \\\n",
       "0       William HUME  50 Yrs  No Fixed Address   \n",
       "1     Paul ST PIERRE  46 Yrs  No Fixed Address   \n",
       "2  Kipp DALE-PAISLEY  32 Yrs     St Catharines   \n",
       "3       Peter THOMAS  46 yrs           Welland   \n",
       "4      Rachel FRASER  32 yrs           Welland   \n",
       "\n",
       "                                               Crime        Date  \n",
       "0  ['', '', '\\xa0Break and Enter', 'Fail to Atten...  2023.08.30  \n",
       "1  ['', '', 'Break and Enter x3', '', '', '23-885...  2023.08.30  \n",
       "2    ['', '', 'Assault', '', '', '23-91405', '', '']  2023.08.30  \n",
       "3  ['', '', 'Fail to Comply Release Order', '', '...  2023.08.30  \n",
       "4  ['', '', 'Fail to Attend Court', '', '', '23-9...  2023.08.30  "
      ]
     },
     "execution_count": 4,
     "metadata": {},
     "output_type": "execute_result"
    }
   ],
   "source": [
    "df = pd.read_csv('NRP.csv', encoding='windows-1252') # \n",
    "df.head()"
   ]
  },
  {
   "cell_type": "code",
   "execution_count": 7,
   "metadata": {},
   "outputs": [
    {
     "data": {
      "text/plain": [
       "Name          0\n",
       "Age         114\n",
       "Location    114\n",
       "Crime         0\n",
       "Date          0\n",
       "dtype: int64"
      ]
     },
     "execution_count": 7,
     "metadata": {},
     "output_type": "execute_result"
    }
   ],
   "source": [
    "df.isnull().sum()"
   ]
  }
 ],
 "metadata": {
  "kernelspec": {
   "display_name": "NRPS",
   "language": "python",
   "name": "nrps"
  },
  "language_info": {
   "codemirror_mode": {
    "name": "ipython",
    "version": 3
   },
   "file_extension": ".py",
   "mimetype": "text/x-python",
   "name": "python",
   "nbconvert_exporter": "python",
   "pygments_lexer": "ipython3",
   "version": "3.8.10"
  },
  "orig_nbformat": 4
 },
 "nbformat": 4,
 "nbformat_minor": 2
}
